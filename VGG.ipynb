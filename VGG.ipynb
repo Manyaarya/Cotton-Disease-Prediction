{
  "nbformat": 4,
  "nbformat_minor": 0,
  "metadata": {
    "colab": {
      "provenance": [],
      "gpuType": "T4"
    },
    "kernelspec": {
      "name": "python3",
      "display_name": "Python 3"
    },
    "language_info": {
      "name": "python"
    },
    "accelerator": "GPU"
  },
  "cells": [
    {
      "cell_type": "code",
      "execution_count": 1,
      "metadata": {
        "colab": {
          "base_uri": "https://localhost:8080/"
        },
        "id": "DibyRyg3ZFBD",
        "outputId": "71294d1b-7414-47a4-fee3-df170bbb5b67"
      },
      "outputs": [
        {
          "output_type": "stream",
          "name": "stdout",
          "text": [
            "Downloading data from https://storage.googleapis.com/tensorflow/keras-applications/vgg16/vgg16_weights_tf_dim_ordering_tf_kernels_notop.h5\n",
            "58889256/58889256 [==============================] - 4s 0us/step\n",
            "Found 1981 images belonging to 4 classes.\n",
            "Found 18 images belonging to 4 classes.\n",
            "Epoch 1/20\n",
            "62/62 [==============================] - 1248s 20s/step - loss: 0.5260 - accuracy: 0.7971 - val_loss: 0.1190 - val_accuracy: 0.9444\n",
            "Epoch 2/20\n",
            "62/62 [==============================] - 36s 578ms/step - loss: 0.2035 - accuracy: 0.9248 - val_loss: 0.0815 - val_accuracy: 0.9444\n",
            "Epoch 3/20\n",
            "62/62 [==============================] - 36s 575ms/step - loss: 0.1661 - accuracy: 0.9384 - val_loss: 0.1214 - val_accuracy: 0.9444\n",
            "Epoch 4/20\n",
            "62/62 [==============================] - 37s 592ms/step - loss: 0.1206 - accuracy: 0.9586 - val_loss: 0.1133 - val_accuracy: 0.9444\n",
            "Epoch 5/20\n",
            "62/62 [==============================] - 36s 581ms/step - loss: 0.1233 - accuracy: 0.9566 - val_loss: 0.1315 - val_accuracy: 0.9444\n",
            "Epoch 6/20\n",
            "62/62 [==============================] - 36s 579ms/step - loss: 0.0878 - accuracy: 0.9677 - val_loss: 0.0558 - val_accuracy: 0.9444\n",
            "Epoch 7/20\n",
            "62/62 [==============================] - 36s 580ms/step - loss: 0.0716 - accuracy: 0.9808 - val_loss: 0.0795 - val_accuracy: 0.9444\n",
            "Epoch 8/20\n",
            "62/62 [==============================] - 36s 577ms/step - loss: 0.0699 - accuracy: 0.9803 - val_loss: 0.0830 - val_accuracy: 0.9444\n",
            "Epoch 9/20\n",
            "62/62 [==============================] - 35s 562ms/step - loss: 0.0481 - accuracy: 0.9874 - val_loss: 0.0560 - val_accuracy: 0.9444\n",
            "Epoch 10/20\n",
            "62/62 [==============================] - 36s 578ms/step - loss: 0.0367 - accuracy: 0.9939 - val_loss: 0.0795 - val_accuracy: 0.9444\n",
            "Epoch 11/20\n",
            "62/62 [==============================] - 35s 571ms/step - loss: 0.0344 - accuracy: 0.9914 - val_loss: 0.0657 - val_accuracy: 0.9444\n",
            "Epoch 12/20\n",
            "62/62 [==============================] - 36s 582ms/step - loss: 0.0347 - accuracy: 0.9934 - val_loss: 0.0580 - val_accuracy: 0.9444\n",
            "Epoch 13/20\n",
            "62/62 [==============================] - 35s 563ms/step - loss: 0.0449 - accuracy: 0.9854 - val_loss: 0.2415 - val_accuracy: 0.9444\n",
            "Epoch 14/20\n",
            "62/62 [==============================] - 36s 582ms/step - loss: 0.0237 - accuracy: 0.9950 - val_loss: 0.0212 - val_accuracy: 1.0000\n",
            "Epoch 15/20\n",
            "62/62 [==============================] - 36s 583ms/step - loss: 0.0398 - accuracy: 0.9874 - val_loss: 0.0379 - val_accuracy: 1.0000\n",
            "Epoch 16/20\n",
            "62/62 [==============================] - 36s 578ms/step - loss: 0.0375 - accuracy: 0.9879 - val_loss: 0.1274 - val_accuracy: 0.9444\n",
            "Epoch 17/20\n",
            "62/62 [==============================] - 35s 560ms/step - loss: 0.0258 - accuracy: 0.9939 - val_loss: 0.2011 - val_accuracy: 0.9444\n",
            "Epoch 18/20\n",
            "62/62 [==============================] - 36s 583ms/step - loss: 0.0209 - accuracy: 0.9965 - val_loss: 0.0422 - val_accuracy: 0.9444\n",
            "Epoch 19/20\n",
            "62/62 [==============================] - 36s 574ms/step - loss: 0.0362 - accuracy: 0.9844 - val_loss: 0.0182 - val_accuracy: 1.0000\n",
            "Epoch 20/20\n",
            "62/62 [==============================] - 35s 566ms/step - loss: 0.0359 - accuracy: 0.9889 - val_loss: 0.1154 - val_accuracy: 0.9444\n",
            "1/1 [==============================] - 2s 2s/step - loss: 0.1154 - accuracy: 0.9444\n",
            "VGG16 Test Loss: 0.1154\n",
            "VGG16 Test Accuracy: 0.9444\n"
          ]
        }
      ],
      "source": [
        "from tensorflow.keras.applications import VGG16\n",
        "from tensorflow.keras.layers import Dense, Flatten\n",
        "from tensorflow.keras.models import Model\n",
        "from tensorflow.keras.preprocessing.image import ImageDataGenerator\n",
        "from tensorflow.keras.optimizers import Adam\n",
        "from tensorflow.keras.applications.vgg16 import preprocess_input\n",
        "\n",
        "# Define image size for VGG16\n",
        "IMAGE_SIZE = [224, 224]\n",
        "\n",
        "# Load VGG16 model with pre-trained weights\n",
        "vgg = VGG16(input_shape=IMAGE_SIZE + [3], weights='imagenet', include_top=False)\n",
        "\n",
        "# Freeze the layers\n",
        "for layer in vgg.layers:\n",
        "    layer.trainable = False\n",
        "\n",
        "# Add custom layers on top\n",
        "x = Flatten()(vgg.output)\n",
        "prediction = Dense((4), activation='softmax')(x)\n",
        "model_vgg = Model(inputs=vgg.input, outputs=prediction)\n",
        "\n",
        "# Compile the model\n",
        "model_vgg.compile(\n",
        "    loss='categorical_crossentropy',\n",
        "    optimizer=Adam(),\n",
        "    metrics=['accuracy']\n",
        ")\n",
        "\n",
        "# Prepare data generators with VGG16 preprocessing\n",
        "train_datagen_vgg = ImageDataGenerator(\n",
        "    rescale=1./255,\n",
        "    shear_range=0.2,\n",
        "    zoom_range=0.2,\n",
        "    horizontal_flip=True,\n",
        "    preprocessing_function=preprocess_input\n",
        ")\n",
        "\n",
        "test_datagen_vgg = ImageDataGenerator(\n",
        "    rescale=1./255,\n",
        "    preprocessing_function=preprocess_input\n",
        ")\n",
        "\n",
        "training_set_vgg = train_datagen_vgg.flow_from_directory(\n",
        "    '/content/drive/MyDrive/plant/train',\n",
        "    target_size=(224, 224),\n",
        "    batch_size=32,\n",
        "    class_mode='categorical'\n",
        ")\n",
        "\n",
        "test_set_vgg = test_datagen_vgg.flow_from_directory(\n",
        "    '/content/drive/MyDrive/plant/test',\n",
        "    target_size=(224, 224),\n",
        "    batch_size=32,\n",
        "    class_mode='categorical'\n",
        ")\n",
        "\n",
        "# Train the model\n",
        "r_vgg = model_vgg.fit(\n",
        "    training_set_vgg,\n",
        "    validation_data=test_set_vgg,\n",
        "    epochs=20,\n",
        "    steps_per_epoch=len(training_set_vgg),\n",
        "    validation_steps=len(test_set_vgg)\n",
        ")\n",
        "\n",
        "# Evaluate the model\n",
        "test_loss_vgg, test_accuracy_vgg = model_vgg.evaluate(test_set_vgg, steps=len(test_set_vgg))\n",
        "print(f\"VGG16 Test Loss: {test_loss_vgg:.4f}\")\n",
        "print(f\"VGG16 Test Accuracy: {test_accuracy_vgg:.4f}\")"
      ]
    },
    {
      "cell_type": "code",
      "source": [
        "from google.colab import drive\n",
        "drive.mount('/content/drive')"
      ],
      "metadata": {
        "colab": {
          "base_uri": "https://localhost:8080/"
        },
        "id": "LMRsqHI2ZOuy",
        "outputId": "e150048b-2de6-4b3f-bded-27c95146beb6"
      },
      "execution_count": 1,
      "outputs": [
        {
          "output_type": "stream",
          "name": "stdout",
          "text": [
            "Drive already mounted at /content/drive; to attempt to forcibly remount, call drive.mount(\"/content/drive\", force_remount=True).\n"
          ]
        }
      ]
    },
    {
      "cell_type": "code",
      "source": [],
      "metadata": {
        "id": "Vcpf8whJZR2M"
      },
      "execution_count": null,
      "outputs": []
    }
  ]
}